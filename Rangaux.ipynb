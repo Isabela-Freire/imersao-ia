{
  "nbformat": 4,
  "nbformat_minor": 0,
  "metadata": {
    "colab": {
      "provenance": []
    },
    "kernelspec": {
      "name": "python3",
      "display_name": "Python 3"
    },
    "language_info": {
      "name": "python"
    }
  },
  "cells": [
    {
      "cell_type": "code",
      "execution_count": 15,
      "metadata": {
        "id": "TNEPDCYFcob_"
      },
      "outputs": [],
      "source": []
    },
    {
      "cell_type": "code",
      "source": [
        "%pip -q install google-genai"
      ],
      "metadata": {
        "id": "WwZ7qUOyc3Ch"
      },
      "execution_count": 16,
      "outputs": []
    },
    {
      "cell_type": "code",
      "source": [
        "import os\n",
        "from google.colab import userdata\n",
        "\n",
        "os.environ[\"GOOGLE_API_KEY\"] = userdata.get('GOOGLE_API_KEY')"
      ],
      "metadata": {
        "id": "kPkYj53Cc6Mp"
      },
      "execution_count": 17,
      "outputs": []
    },
    {
      "cell_type": "code",
      "source": [
        "from google import genai\n",
        "\n",
        "client = genai.Client()\n",
        "\n",
        "MODEL_ID = \"gemini-2.0-flash\""
      ],
      "metadata": {
        "id": "RNG2MDFwc-Vn"
      },
      "execution_count": 18,
      "outputs": []
    },
    {
      "cell_type": "code",
      "source": [
        "!pip install -q google-adk"
      ],
      "metadata": {
        "id": "qjkME6POdBXh"
      },
      "execution_count": 20,
      "outputs": []
    },
    {
      "cell_type": "code",
      "source": [
        "from datetime import date\n",
        "from google.adk.agents import Agent\n",
        "from google.adk.runners import Runner\n",
        "from google.adk.sessions import InMemorySessionService\n",
        "from google.adk.tools import google_search\n",
        "from google.genai import types\n",
        "import textwrap\n",
        "from IPython.display import display, Markdown, HTML\n",
        "import requests\n",
        "import warnings\n",
        "import time"
      ],
      "metadata": {
        "id": "2W_PnDsAlAeL"
      },
      "execution_count": 32,
      "outputs": []
    },
    {
      "cell_type": "code",
      "source": [
        "def call_agent(agent: Agent, message_text: str) -> str:\n",
        "    session_service = InMemorySessionService()\n",
        "    session = session_service.create_session(app_name=agent.name, user_id=\"user1\", session_id=\"session1\")\n",
        "    runner = Runner(agent=agent, app_name=agent.name, session_service=session_service)\n",
        "    content = types.Content(role=\"user\", parts=[types.Part(text=message_text)])\n",
        "\n",
        "    final_response = \"\"\n",
        "    for event in runner.run(user_id=\"user1\", session_id=\"session1\", new_message=content):\n",
        "        if event.is_final_response():\n",
        "          for part in event.content.parts:\n",
        "            if part.text is not None:\n",
        "              final_response += part.text\n",
        "              final_response += \"\\n\"\n",
        "    return final_response"
      ],
      "metadata": {
        "id": "UzeBRD56dGr8"
      },
      "execution_count": 41,
      "outputs": []
    },
    {
      "cell_type": "code",
      "source": [
        "def to_markdown(text):\n",
        "  text = text.replace('•', '  *')\n",
        "  return Markdown(textwrap.indent(text, '> ', predicate=lambda _: True))"
      ],
      "metadata": {
        "id": "7tMhT33ydJXl"
      },
      "execution_count": 42,
      "outputs": []
    },
    {
      "cell_type": "code",
      "source": [
        "MSG_BOAS_VINDAS = \"Opa, bateu a fome? Bora agilizar o rango!\"\n",
        "MSG_INTRO_INGREDIENTES = \"Me conta quais ingredientes você tem em casa?\"\n",
        "MSG_PEDIR_INGREDIENTES = \"Ingredientes disponíveis (ou digite 'sair' para encerrar):\"\n",
        "MSG_SAIR = \"Entendido. Saindo. Até a próxima!\"\n",
        "MSG_SEM_INGREDIENTES = \"Tem nada mesmo? Que pena. Espero que a padoca da esquina esteja aberta.\"\n",
        "MSG_SUCESSO_INGREDIENTES = \"Massa! Vamos ver o que dá pra fazer...\"\n",
        "MSG_SEM_OPCOES = \"Eita, deu ruim aqui. Não encontrei nada que dá pra fazer com os ingredientes informados. Que tal tentar com ingredientes diferentes?\"\n",
        "MSG_PEDIR_RECEITA = \"Qual das receitas acima você escolhe? (Copie o nome ou o número, ou digite 'sair'):\"\n",
        "MSG_SEM_RECEITA_ESCOLHIDA = \"Entendido. Nenhuma receita agradou.\"\n",
        "MSG_FINAL = \"Fechou, né?\"\n",
        "MSG_PEDIR_SIM_NAO = \"Você tem todos esses ingredientes? (sim/não):\"\n",
        "MSG_RESPOSTA_INVALIDA_SIM_NAO = \"Responda apenas 'sim' ou 'não'.\"\n",
        "MSG_FALTA_INGREDIENTES = \"Entendido. Que tal tentarmos encontrar outras opções com os ingredientes que você tem?\"\n",
        "\n",
        "QUESTION_PROMPT_EXPECTED = \"Você tem todos esses ingredientes?\""
      ],
      "metadata": {
        "id": "hJI3hHKnq3dW"
      },
      "execution_count": 47,
      "outputs": []
    },
    {
      "cell_type": "code",
      "source": [
        "def to_markdown(text):\n",
        "    \"\"\"Converte texto para Markdown, tratando marcadores de lista e indentação.\"\"\"\n",
        "    text = str(text)\n",
        "    text = text.replace('•', '  *')\n",
        "    return Markdown(text)\n",
        "\n",
        "def call_agent(agent: Agent, message_text: str) -> str:\n",
        "    \"\"\"Chama um agente ADK com uma string de input e retorna a resposta final como string.\"\"\"\n",
        "    session_service = InMemorySessionService()\n",
        "    session = session_service.create_session(app_name=agent.name, user_id=\"user1\", session_id=\"session1\")\n",
        "    runner = Runner(agent=agent, app_name=agent.name, session_service=session_service)\n",
        "    content = types.Content(role=\"user\", parts=[types.Part(text=message_text)]) # Usa a string de input aqui\n",
        "\n",
        "    final_response = \"\"\n",
        "    try:\n",
        "        for event in runner.run(user_id=\"user1\", session_id=\"session1\", new_message=content):\n",
        "            if event.is_final_response():\n",
        "                for part in event.content.parts:\n",
        "                    if part.text is not None:\n",
        "                        final_response += part.text\n",
        "\n",
        "    except Exception as e:\n",
        "         print(f\"Erro durante a execução do runner para o agente {agent.name}: {e}\")\n",
        "         raise e\n",
        "    return final_response.strip()\n",
        "\n",
        "\n",
        "# --- Definição dos agentes --- #\n",
        "\n",
        "##########################################\n",
        "# --- Agente 1: Consultor de Geladeira e Dispensa --- #\n",
        "##########################################\n",
        "\n",
        "def agente_consultor(message_text: str):\n",
        "    \"\"\"\n",
        "    Consulta receitas com base nos ingredientes disponíveis do usuário.\n",
        "    Input (str): String contendo os ingredientes e data (ex: \"Ingredientes: ovo, farinha\\nData: 17/05/2025\").\n",
        "    Output: str = Lista numerada (Markdown) das 3 receitas sugeridas (Nome: Descrição).\n",
        "    \"\"\"\n",
        "    consultor = Agent(\n",
        "        name=\"agente_consultor\",\n",
        "        model=\"gemini-2.0-flash\",\n",
        "        description=\"Agente que busca receitas com base nos ingredientes fornecidos.\",\n",
        "        tools=[google_search],\n",
        "        instruction=\"\"\"\n",
        "        Você é o agente que irá iniciar a conversa com o usuário, ajudando-o a encontrar receitas com o que ele tem em casa.\n",
        "        Seja direto, sucinto e prático em suas respostas.\n",
        "        O usuário te deu uma string no input contendo os ingredientes e a data de hoje.\n",
        "        Sua tarefa é:\n",
        "        (1) Analisar o input do usuário para identificar os ingredientes disponíveis.\n",
        "        (2) Utilizar sua ferramenta (Google Search) para encontrar receitas que utilizem **esses ingredientes listados no input**.\n",
        "        (3) Selecionar as 3 receitas mais relevantes e bem avaliadas encontradas.\n",
        "        (4) Apresentar essas 3 receitas ao usuário em formato de **lista numerada (Markdown)**, incluindo apenas o **nome da receita** e uma **descrição MUITO breve** para cada uma. Não inclua ingredientes ou passo a passo aqui.\n",
        "        Exemplo de formato de saída:\n",
        "        1. Omelete Simples: Ótima para um café rápido.\n",
        "        2. Arroz de Forno: Prato único e delicioso.\n",
        "        3. Sopa de Legumes: Conforto em dias frios.\n",
        "        \"\"\"\n",
        "    )\n",
        "\n",
        "    print(f\"Vamos ver o que dá pra fazer com isso...\")\n",
        "    ingredientes_sugeridos = call_agent(consultor, message_text)\n",
        "    return ingredientes_sugeridos\n",
        "\n",
        "\n",
        "##########################################\n",
        "# --- Agente 2: Agente Intermediário --- #\n",
        "##########################################\n",
        "\n",
        "def agente_intermediario(message_text: str):\n",
        "    \"\"\"\n",
        "    Lista os ingredientes para a receita escolhida e pergunta ao usuário se ele os tem.\n",
        "    Input (str): String contendo o nome da receita escolhida e as sugestões anteriores (ex: \"Receita: Omelete Simples\\nSugestões: 1. Omelete...\\n...\").\n",
        "    Output: str = Lista dos ingredientes necessários + a pergunta exata \"Você tem todos esses ingredientes?\".\n",
        "    \"\"\"\n",
        "    intermediario = Agent(\n",
        "        name=\"agente_intermediario\",\n",
        "        model=\"gemini-2.0-flash\",\n",
        "        description=\"Agente que lista ingredientes para uma receita específica e faz a pergunta de checagem.\",\n",
        "        tools=[google_search],\n",
        "        instruction=\"\"\"\n",
        "        Você recebeu uma string no input contendo o nome da receita que o usuário escolheu e, para contexto, a lista original de sugestões do agente anterior.\n",
        "        Sua tarefa é:\n",
        "        (1) Identificar o **nome da receita escolhida** na string de input.\n",
        "        (2) Utilizar sua ferramenta (Google Search) para encontrar a lista COMPLETA de ingredientes necessária para **essa receita escolhida**.\n",
        "        (3) Apresentar a lista de ingredientes de forma clara (pode ser em lista, como no exemplo).\n",
        "        (4) Imediatamente após a lista de ingredientes, inclua **EXATAMENTE** a seguinte frase: \"Você tem todos esses ingredientes?\"\n",
        "        Não adicione nenhuma outra frase ou explicação após a pergunta.\n",
        "\n",
        "        Exemplo de formato de saída:\n",
        "        Para fazer [Nome da Receita Escolhida], você vai precisar de:\n",
        "        - 4 ovos\n",
        "        - 500ml de leite\n",
        "        - 200g farinha de trigo\n",
        "        - Açúcar a gosto\n",
        "\n",
        "        Você tem todos esses ingredientes?\n",
        "        \"\"\"\n",
        "    )\n",
        "\n",
        "    print(f\"Agente Intermediário: Processando input para verificar ingredientes...\")\n",
        "    lista_ingredientes_e_pergunta = call_agent(intermediario, message_text)\n",
        "    return lista_ingredientes_e_pergunta\n",
        "\n",
        "\n",
        "##########################################\n",
        "# --- Agente 3: Agente Executor --- #\n",
        "##########################################\n",
        "\n",
        "\n",
        "def agente_executor(message_text: str):\n",
        "    \"\"\"\n",
        "    Fornece a receita completa (ingredientes e passo a passo).\n",
        "    Este agente só é chamado se o usuário confirmar que tem os ingredientes.\n",
        "    Input (str): String contendo o nome da receita escolhida e a lista de ingredientes verificada anteriormente (ex: \"Receita: Omelete Simples\\nIngredientes Verificados:\\n- 4 ovos\\n...\").\n",
        "    Output: str = Receita completa (ingredientes e passo a passo).\n",
        "    \"\"\"\n",
        "    executor = Agent(\n",
        "        name=\"agente_executor\",\n",
        "        model=\"gemini-2.0-flash\",\n",
        "        description=\"Agente que fornece a receita completa.\",\n",
        "        tools=[google_search],\n",
        "        instruction=\"\"\"\n",
        "        Você recebeu uma string no input contendo o nome de uma receita que o usuário escolheu e a lista de ingredientes que foi checada anteriormente.\n",
        "        Sua missão é fornecer a receita COMPLETA para **essa receita identificada no input**. Inclua a lista de ingredientes (pode reafirmar a lista do input ou buscar a sua própria versão completa) e o passo a passo sucinto para prepará-la.\n",
        "        Formate a receita de forma clara, talvez usando Markdown para títulos e listas.\n",
        "        \"\"\"\n",
        "    )\n",
        "\n",
        "\n",
        "    print(f\"Quase lá! Logo logo retorno com a receita completa.\")\n",
        "    receita_completa = call_agent(executor, message_text)\n",
        "    return receita_completa\n",
        "\n",
        "\n",
        "# --- Código de Orquestração --- #\n",
        "\n",
        "\n",
        "def main():\n",
        "    \"\"\"Orquestra a interação entre os agentes e o usuário.\"\"\"\n",
        "\n",
        "    data_de_hoje = date.today().strftime(\"%d/%m/%Y\")\n",
        "\n",
        "    display(HTML(f\"<h1>{MSG_BOAS_VINDAS}</h1>\"))\n",
        "    print(MSG_INTRO_INGREDIENTES)\n",
        "    time.sleep(1)\n",
        "\n",
        "    # --- Loop Principal --- #\n",
        "    while True:\n",
        "        # 1. Input Inicial de Ingredientes\n",
        "        ingredientes_input = get_non_empty_input(MSG_PEDIR_INGREDIENTES + \" \", MSG_SEM_INGREDIENTES, exit_command='sair')\n",
        "\n",
        "        if ingredientes_input.lower() == 'sair':\n",
        "            print(MSG_SAIR)\n",
        "            break\n",
        "\n",
        "        if not ingredientes_input:\n",
        "            print(MSG_SEM_INGREDIENTES)\n",
        "            continue\n",
        "\n",
        "        print(MSG_SUCESSO_INGREDIENTES)\n",
        "        time.sleep(1)\n",
        "\n",
        "        # 2. Chamar Agente Consultor\n",
        "        display_section_header(\"Receitas Sugeridas\")\n",
        "        try:\n",
        "\n",
        "            input_para_consultor = f\"Ingredientes disponíveis: {ingredientes_input}\\nData de hoje: {data_de_hoje}\"\n",
        "            resultado_consultor = agente_consultor(input_para_consultor) # Passa APENAS a string\n",
        "            display_agent_output(resultado_consultor)\n",
        "\n",
        "            if not resultado_consultor or (isinstance(resultado_consultor, str) and not resultado_consultor.strip()):\n",
        "                 print(MSG_SEM_OPCOES)\n",
        "                 continue\n",
        "\n",
        "        except Exception as e:\n",
        "            print(f\"Ocorreu um erro ao consultar as receitas: {e}\")\n",
        "            print(\"Por favor, tente novamente.\")\n",
        "            continue\n",
        "\n",
        "        # 3. Input de Escolha da Receita\n",
        "        print(\"\\n\")\n",
        "        receita_input = get_non_empty_input(MSG_PEDIR_RECEITA + \" \", MSG_SEM_RECEITA_ESCOLHIDA, exit_command='sair')\n",
        "\n",
        "        if receita_input.lower() == 'sair':\n",
        "            print(MSG_SAIR)\n",
        "            break\n",
        "\n",
        "        if not receita_input:\n",
        "            print(MSG_SEM_RECEITA_ESCOLHIDA)\n",
        "            continue\n",
        "\n",
        "        # 4. Chamar Agente Intermediário\n",
        "        display_section_header(f\"Verificando ingredientes para: '{receita_input}'\")\n",
        "        try:\n",
        "            # Prepara a ÚNICA string de input para o Agente 2\n",
        "            input_para_intermediario = f\"Receita escolhida: {receita_input}\\nSugestões anteriores: {resultado_consultor}\"\n",
        "            resultado_intermediario = agente_intermediario(input_para_intermediario) # Passa APENAS a string\n",
        "            display_agent_output(resultado_intermediario)\n",
        "\n",
        "        except Exception as e:\n",
        "            print(f\"Ocorreu um erro ao verificar os ingredientes: {e}\")\n",
        "            print(\"Por favor, tente novamente.\")\n",
        "            continue\n",
        "\n",
        "        # 5. Verificar Saída do Agente Intermediário e Pedir Input SIM/NÃO\n",
        "\n",
        "        if isinstance(resultado_intermediario, str) and QUESTION_PROMPT_EXPECTED.strip() in resultado_intermediario:\n",
        "             print(\"\\n\")\n",
        "             time.sleep(1)\n",
        "\n",
        "             resposta_sim_nao = \"\"\n",
        "             while resposta_sim_nao.lower() not in ['sim', 'não', 'nao']:\n",
        "                 resposta_sim_nao = get_non_empty_input(MSG_PEDIR_SIM_NAO + \" \", MSG_RESPOSTA_INVALIDA_SIM_NAO).lower()\n",
        "                 if resposta_sim_nao not in ['sim', 'não', 'nao']:\n",
        "                      print(MSG_RESPOSTA_INVALIDA_SIM_NAO)\n",
        "\n",
        "             # 6. Ramificação baseada na resposta SIM/NÃO\n",
        "             if resposta_sim_nao.lower() in ['sim', 's']:\n",
        "                 # Usuário tem os ingredientes, chamar Agente Executor\n",
        "                 display_section_header(f\"Preparando a receita de '{receita_input}'\")\n",
        "                 try:\n",
        "\n",
        "                      input_para_executor = f\"Receita escolhida: {receita_input}\\nIngredientes verificados: {resultado_intermediario}\"\n",
        "                      resultado_executor = agente_executor(input_para_executor)\n",
        "                      display_agent_output(resultado_executor)\n",
        "\n",
        "                      # Processo de receita concluído com sucesso\n",
        "                      print(\"\\n\")\n",
        "                      display(HTML(f\"<h2>{MSG_FINAL} Bom apetite!</h2>\"))\n",
        "                      break # Sai do loop principal\n",
        "\n",
        "                 except Exception as e:\n",
        "                      print(f\"Ocorreu um erro ao obter a receita completa: {e}\")\n",
        "                      print(\"Por favor, tente novamente com a mesma ou outra receita.\")\n",
        "                      continue # Volta para o início do loop\n",
        "\n",
        "             else: # resposta_sim_nao é 'não' ou 'nao'\n",
        "                 # Usuário não tem os ingredientes\n",
        "                 print(\"\\n\")\n",
        "                 print(MSG_FALTA_INGREDIENTES)\n",
        "                 time.sleep(2)\n",
        "                 continue # Volta para o início do loop\n",
        "\n",
        "        else:\n",
        "            # Se a saída do agente 2 NÃO foi a pergunta esperada\n",
        "            print(\"\\n\")\n",
        "            print(\"Eita, parece que deu ruim.\")\n",
        "            print(\"Tentando outra receita ou ingredientes...\")\n",
        "            continue # Volta para o início do loop\n",
        "\n",
        "\n",
        "    # --- Fim do Loop Principal ---\n",
        "    pass\n",
        "\n",
        "# --- Executa a função principal ---\n",
        "if __name__ == \"__main__\":\n",
        "    main()"
      ],
      "metadata": {
        "colab": {
          "base_uri": "https://localhost:8080/",
          "height": 1000
        },
        "id": "7XTvHxL5lezM",
        "outputId": "c1cf7daa-e984-41bc-ff17-4e65ad5e959d"
      },
      "execution_count": 48,
      "outputs": [
        {
          "output_type": "display_data",
          "data": {
            "text/plain": [
              "<IPython.core.display.HTML object>"
            ],
            "text/html": [
              "<h1>Opa, bateu a fome? Bora agilizar o rango!</h1>"
            ]
          },
          "metadata": {}
        },
        {
          "output_type": "stream",
          "name": "stdout",
          "text": [
            "Me conta quais ingredientes você tem em casa?\n",
            "Ingredientes disponíveis (ou digite 'sair' para encerrar): ovo\n",
            "Massa! Vamos ver o que dá pra fazer...\n"
          ]
        },
        {
          "output_type": "display_data",
          "data": {
            "text/plain": [
              "<IPython.core.display.HTML object>"
            ],
            "text/html": [
              "<br><h2>Receitas Sugeridas</h2><hr>"
            ]
          },
          "metadata": {}
        },
        {
          "output_type": "stream",
          "name": "stdout",
          "text": [
            "Vamos ver o que dá pra fazer com isso...\n"
          ]
        },
        {
          "output_type": "display_data",
          "data": {
            "text/plain": [
              "<IPython.core.display.Markdown object>"
            ],
            "text/markdown": "Olá! Com ovo, posso te sugerir algumas receitas rápidas e fáceis:\n\n1.  **Omelete Simples:** Uma opção rápida e versátil para qualquer refeição.\n2.  **Ovos Mexidos:** Clássico e fácil, perfeito para um café da manhã rápido.\n3.  **Ovos à Parmegiana:** Uma forma saborosa e diferente de preparar os ovos."
          },
          "metadata": {}
        },
        {
          "name": "stdout",
          "output_type": "stream",
          "text": [
            "\n",
            "\n",
            "Qual das receitas acima você escolhe? (Copie o nome ou o número, ou digite 'sair'): Omelete Simples\n"
          ]
        },
        {
          "output_type": "display_data",
          "data": {
            "text/plain": [
              "<IPython.core.display.HTML object>"
            ],
            "text/html": [
              "<br><h2>Verificando ingredientes para: 'Omelete Simples'</h2><hr>"
            ]
          },
          "metadata": {}
        },
        {
          "output_type": "stream",
          "name": "stdout",
          "text": [
            "Agente Intermediário: Processando input para verificar ingredientes...\n"
          ]
        },
        {
          "output_type": "display_data",
          "data": {
            "text/plain": [
              "<IPython.core.display.Markdown object>"
            ],
            "text/markdown": "Para fazer Omelete Simples, você vai precisar de:\n- 2 ou 3 ovos\n- Sal a gosto\n- Pimenta do reino a gosto\n- 1 colher de óleo ou azeite ou manteiga\n- Recheios opcionais como queijo, presunto, tomate, cebola, cheiro-verde\n- 1 colher de farinha de trigo (opcional)\n- Leite ou água (opcional)\n\nVocê tem todos esses ingredientes?"
          },
          "metadata": {}
        },
        {
          "name": "stdout",
          "output_type": "stream",
          "text": [
            "\n",
            "\n",
            "Você tem todos esses ingredientes? (sim/não): sim\n"
          ]
        },
        {
          "output_type": "display_data",
          "data": {
            "text/plain": [
              "<IPython.core.display.HTML object>"
            ],
            "text/html": [
              "<br><h2>Preparando a receita de 'Omelete Simples'</h2><hr>"
            ]
          },
          "metadata": {}
        },
        {
          "output_type": "stream",
          "name": "stdout",
          "text": [
            "Quase lá! Logo logo retorno com a receita completa.\n"
          ]
        },
        {
          "output_type": "display_data",
          "data": {
            "text/plain": [
              "<IPython.core.display.Markdown object>"
            ],
            "text/markdown": "## Omelete Simples Completa\n\nAqui está uma receita completa de omelete simples, com algumas opções e dicas para você personalizar:\n\n### Ingredientes:\n\n*   2 ou 3 ovos grandes\n*   Sal a gosto\n*   Pimenta do reino a gosto\n*   1 colher de sopa de óleo, azeite ou manteiga\n*   Recheios opcionais: queijo (mussarela, prato, parmesão, etc.), presunto picado, tomate picado, cebola picada, ervas frescas picadas (cheiro-verde, orégano, manjericão)\n*   1 colher de chá de farinha de trigo (opcional, para uma omelete mais fofinha)\n*   1 colher de sopa de leite ou água (opcional, para deixar a omelete mais leve)\n\n### Modo de Preparo:\n\n1.  **Prepare os ingredientes:** Pique os recheios que você escolheu e deixe-os separados.\n2.  **Bata os ovos:** Em uma tigela, quebre os ovos e bata-os com um garfo ou batedor de arame até que as gemas e claras estejam bem misturadas. Adicione o sal, a pimenta do reino e, se desejar, a farinha de trigo e o leite ou água. Bata até incorporar todos os ingredientes.\n3.  **Aqueça a frigideira:** Coloque a frigideira em fogo médio e adicione o óleo, azeite ou manteiga. Espere aquecer bem.\n4.  **Despeje os ovos:** Despeje a mistura de ovos na frigideira quente.\n5.  **Cozinhe a omelete:** Deixe cozinhar por alguns segundos, até que a parte de baixo comece a firmar.\n6.  **Adicione o recheio:** Se estiver usando recheios, espalhe-os sobre metade da omelete.\n7.  **Dobre a omelete:** Com uma espátula, dobre a omelete ao meio, cobrindo o recheio.\n8.  **Finalize a cocção:** Cozinhe por mais alguns segundos, até que o queijo derreta (se estiver usando) e a omelete esteja dourada dos dois lados.\n9.  **Sirva:** Desligue o fogo, transfira a omelete para um prato e sirva imediatamente.\n\n**Dicas:**\n\n*   Para uma omelete mais cremosa, cozinhe em fogo baixo e mexa delicadamente os ovos na frigideira antes de adicionar o recheio.\n*   Não coloque recheio em excesso para não dificultar na hora de dobrar a omelete.\n*   Você pode usar outros temperos de sua preferência, como orégano, salsa desidratada, cebola em pó, alho em pó, etc.\n*   Experimente diferentes combinações de recheios para descobrir seus sabores favoritos!"
          },
          "metadata": {}
        },
        {
          "output_type": "stream",
          "name": "stdout",
          "text": [
            "\n",
            "\n"
          ]
        },
        {
          "output_type": "display_data",
          "data": {
            "text/plain": [
              "<IPython.core.display.HTML object>"
            ],
            "text/html": [
              "<h2>Fechou, né? Bom apetite!</h2>"
            ]
          },
          "metadata": {}
        }
      ]
    }
  ]
}